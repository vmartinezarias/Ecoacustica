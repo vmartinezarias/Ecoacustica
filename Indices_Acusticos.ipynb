{
  "nbformat": 4,
  "nbformat_minor": 0,
  "metadata": {
    "colab": {
      "provenance": [],
      "toc_visible": true,
      "authorship_tag": "ABX9TyOLxkjoSMdJENOuukxxc3Tx",
      "include_colab_link": true
    },
    "kernelspec": {
      "name": "python3",
      "display_name": "Python 3"
    },
    "language_info": {
      "name": "python"
    }
  },
  "cells": [
    {
      "cell_type": "markdown",
      "metadata": {
        "id": "view-in-github",
        "colab_type": "text"
      },
      "source": [
        "<a href=\"https://colab.research.google.com/github/vmartinezarias/Ecoacustica/blob/main/Indices_Acusticos.ipynb\" target=\"_parent\"><img src=\"https://colab.research.google.com/assets/colab-badge.svg\" alt=\"Open In Colab\"/></a>"
      ]
    },
    {
      "cell_type": "markdown",
      "source": [
        "Índices acústicos utilizados, definiciones y fórmulas\n",
        "\n",
        "Notación base.\n",
        "La señal de entrada es un audio en mono a frecuencia de muestreo Fs. El espectrograma de magnitud (STFT) se denota como S(f, t), con f = frecuencias y t = ventanas de tiempo. El análisis se restringe a un rango de frecuencias definido por fmin y fmax.\n",
        "\n",
        "1) ACI — Acoustic Complexity Index\n",
        "\n",
        "Intuición.\n",
        "Mide la variación relativa de energía. Señales impulsivas o rápidas (trinos, ráfagas) producen valores altos; señales estacionarias o constantes producen valores bajos.\n",
        "\n",
        "1.1 ACI temporal (ACItf)\n",
        "\n",
        "Se calcula la suma de las diferencias absolutas entre valores consecutivos en el tiempo, normalizadas por la energía:\n",
        "\n",
        "ACItf = Σ ( |S(f, t+1) – S(f, t)| / (S(f, t+1) + S(f, t) + ε) )\n",
        "\n",
        "1.2 ACI frecuencial (ACIft)\n",
        "\n",
        "Se calcula la variación a lo largo de la frecuencia, por cada instante de tiempo:\n",
        "\n",
        "ACIft = Σ ( |S(f+1, t) – S(f, t)| / (S(f+1, t) + S(f, t) + ε) )\n",
        "\n",
        "Notas en ultrasonido:\n",
        "Matemáticamente aplicable, pero con cautela: los pulsos muy breves (como los de murciélagos) pueden inflar el valor. Conviene ajustar tamaño de ventana, NFFT y solapamiento, y documentar siempre la banda analizada.\n",
        "\n",
        "2) BI — Bioacoustics Index\n",
        "\n",
        "Intuición.\n",
        "Resume la energía promedio dentro de una banda de frecuencias definida como “biológica”.\n",
        "\n",
        "Procedimiento:\n",
        "\n",
        "Calcular el espectro medio promediando el espectrograma en el tiempo.\n",
        "\n",
        "Sumar los valores de ese espectro dentro de la banda biológica (por ejemplo, 2–12 kHz).\n",
        "\n",
        "Notas en ultrasonido:\n",
        "En su definición original no aplica. Puede redefinirse para bandas ultrasónicas (por ejemplo, 20–80 kHz), pero pierde comparabilidad con la literatura audible. Debe documentarse explícitamente si se redefine.\n",
        "\n",
        "3) NDSI — Normalized Difference Soundscape Index\n",
        "\n",
        "Intuición.\n",
        "Compara la energía en dos bandas: biophony (bio) y anthrophony (antro).\n",
        "\n",
        "NDSI = (Pbio – Pantro) / (Pbio + Pantro)\n",
        "\n",
        "Donde Pbio es la energía en la banda biológica, y Pantro la energía en la banda antropogénica.\n",
        "\n",
        "Notas en ultrasonido:\n",
        "No existen bandas “antro” estándar en ultrasonido, por lo cual no es recomendable en su forma clásica.\n",
        "\n",
        "4) NP — Number of Peaks (Número de picos)\n",
        "\n",
        "Intuición.\n",
        "Cuenta cuántos picos locales existen en el espectro (o espectrograma colapsado en frecuencia) dentro de la banda analizada.\n",
        "\n",
        "Procedimiento:\n",
        "\n",
        "Colapsar el espectrograma en frecuencia (sumar sobre el tiempo).\n",
        "\n",
        "Detectar máximos locales aplicando un criterio de distancia mínima en frecuencia y umbral de prominencia.\n",
        "\n",
        "NP = número de picos detectados.\n",
        "\n",
        "Notas en ultrasonido:\n",
        "Es válido y útil, pero hay que ajustar los parámetros de distancia mínima en frecuencia y los umbrales según la resolución y las especies objetivo.\n",
        "\n",
        "5) Entropías acústicas (Ht, Hf y H)\n",
        "\n",
        "Intuición.\n",
        "Miden la dispersión o heterogeneidad temporal y espectral de la energía.\n",
        "\n",
        "5.1 Entropía temporal (Ht)\n",
        "\n",
        "Calcular la envolvente temporal (por ejemplo, con transformada de Hilbert).\n",
        "\n",
        "Normalizar la energía en el tiempo como una distribución de probabilidad.\n",
        "\n",
        "Calcular la entropía de Shannon normalizada (0 = toda la energía concentrada en un instante; 1 = energía distribuida uniformemente).\n",
        "\n",
        "5.2 Entropía frecuencial (Hf)\n",
        "\n",
        "Colapsar el espectrograma en frecuencia (sumar sobre el tiempo).\n",
        "\n",
        "Normalizar como distribución de probabilidad en frecuencia.\n",
        "\n",
        "Calcular la entropía de Shannon normalizada.\n",
        "\n",
        "5.3 Entropía total (H)\n",
        "\n",
        "Se define como el producto: H = Ht * Hf\n",
        "\n",
        "Notas en ultrasonido:\n",
        "Válidas mientras se definan bien los parámetros del STFT y la banda de análisis. Son métricas agnósticas de la frecuencia."
      ],
      "metadata": {
        "id": "SN-mKGjOVftm"
      }
    },
    {
      "cell_type": "markdown",
      "source": [
        "# INSTALACIÓN PAQUETES"
      ],
      "metadata": {
        "id": "nND2QVUNSDGB"
      }
    },
    {
      "cell_type": "code",
      "source": [
        "# ===========================\n",
        "# 0) Instalación de paquetes\n",
        "# ===========================\n",
        "!pip -q install numpy==1.26.4\n",
        "!pip -q install scikit-maad soundfile tqdm pandas scipy openpyxl\n",
        "!apt -y -qq install ffmpeg > /dev/null\n",
        "\n",
        "\n",
        "# Soporte para formatos comprimidos con torchaudio (mp3/m4a/ogg a través de ffmpeg)\n",
        "!apt -y -qq install ffmpeg > /dev/null\n",
        "\n"
      ],
      "metadata": {
        "id": "N7HJ2T7DSFPV"
      },
      "execution_count": null,
      "outputs": []
    },
    {
      "cell_type": "markdown",
      "source": [
        "# MONTAR DRIVE"
      ],
      "metadata": {
        "id": "RkBJiySMSHZe"
      }
    },
    {
      "cell_type": "code",
      "source": [
        "# ===========================\n",
        "# 1) Montar Google Drive\n",
        "# ===========================\n",
        "from google.colab import drive\n",
        "drive.mount('/content/drive')\n"
      ],
      "metadata": {
        "id": "xOhClG09SIvp"
      },
      "execution_count": null,
      "outputs": []
    },
    {
      "cell_type": "markdown",
      "source": [
        "# CONFIGURAR PARÁMETROS"
      ],
      "metadata": {
        "id": "U8Gga3BPSLLD"
      }
    },
    {
      "cell_type": "markdown",
      "source": [
        "Definir parámetros para índices acústicos\n",
        "Window_Size (Tamaño de ventana): El tamaño de ventana (como WINDOW_SIZE = 512) determina cuántos puntos de la señal se analizan en cada segmento al calcular un espectrograma con la Transformada Rápida de Fourier (FFT). Es clave porque afecta la resolución temporal y espectral del análisis.\n",
        "\n",
        "Tamaños pequeños (e.g., 256 puntos): Ofrecen mejor resolución temporal, lo que permite capturar eventos rápidos en el tiempo, pero sacrifican precisión en la frecuencia (bandas más amplias). Tamaños grandes (e.g., 1024 puntos): Mejoran la resolución espectral, lo que permite identificar frecuencias específicas con mayor precisión, pero sacrifican detalles temporales, dificultando la captura de eventos breves. Un tamaño de 512 puntos es común, equilibrando la capacidad de capturar eventos en tiempo y frecuencia. En combinación con el solapamiento, permite mantener continuidad entre ventanas consecutivas y obtener un espectrograma más detallado y suave.\n",
        "\n",
        "Overlap (sobrelapamiento): El solapamiento (overlap) es la cantidad de datos compartidos entre ventanas consecutivas de una señal al calcular su espectrograma mediante la Transformada Rápida de Fourier (FFT). Esto implica que, al dividir una señal en ventanas de un tamaño específico (por ejemplo, 512 puntos), una nueva ventana comienza antes de que termine la anterior, permitiendo que se superpongan. Esto ayuda a capturar transiciones rápidas y mejora la continuidad temporal en el análisis. Por ejemplo, con un solapamiento del 50% y una ventana de 1024 puntos, la segunda ventana comenzará en el punto 512 de la primera y continuará superponiéndose.\n",
        "\n",
        "El solapamiento es útil porque mejora la resolución temporal, reduce la pérdida de información entre ventanas y genera espectrogramas más suaves visualmente.\n",
        "\n",
        "Solapamiento bajo (< 50%): Puede ser útil si quieres reducir el tiempo de cómputo o si los eventos son lentos. Solapamiento alto (> 75%): Ideal para señales con cambios rápidos en el tiempo, pero aumenta el costo computacional. Solapamiento medio (50%): Es una configuración estándar que equilibra bien entre resolución temporal y computación (David Luna, com.pers).\n",
        "\n",
        "NFFT (Puntos FFT): El número de puntos FFT determina cuántos puntos se calculan en la Transformada Rápida de Fourier (FFT) para cada ventana. Esto afecta directamente la resolución en el dominio de la frecuencia:\n",
        "\n",
        "Valores pequeños (e.g., 256): Proporcionan menos precisión en las frecuencias (bandas más amplias), pero son más rápidos de calcular. Valores grandes (e.g., 1024): Ofrecen mayor resolución en frecuencia, dividiendo el espectro en bandas más estrechas, pero requieren más cómputo. Un valor de NFFT = 512 es común porque equilibra la precisión en la frecuencia con la eficiencia computacional. Normalmente se elige igual al tamaño de la ventana (WINDOW_SIZE) para mantener coherencia en el análisis.\n",
        "\n",
        "J_CLUSTER (El número de clusters para el ACI temporal) Define cómo se divide la señal en bloques de tiempo al calcular el Índice de Complejidad Acústica (ACI) temporal.\n",
        "\n",
        "Cada cluster representa un segmento de tiempo sobre el cual se evalúan los cambios en la energía de las frecuencias. Este valor afecta la granularidad del análisis temporal:\n",
        "\n",
        "Valores bajos (ej., 2-5): Agrupan más datos en cada cluster, lo que suaviza el análisis temporal y detecta tendencias generales.\n",
        "\n",
        "Valores altos (ej., >10): Aumentan la sensibilidad a cambios rápidos en la señal, capturando eventos más pequeños o transitorios."
      ],
      "metadata": {
        "id": "2Lf_mRlsXaT-"
      }
    },
    {
      "cell_type": "code",
      "source": [
        "import os, warnings\n",
        "import numpy as np\n",
        "import pandas as pd\n",
        "from pathlib import Path\n",
        "from datetime import datetime\n",
        "from scipy import signal\n",
        "from tqdm import tqdm\n",
        "import concurrent.futures\n",
        "\n",
        "warnings.filterwarnings(\"ignore\")\n",
        "\n",
        "# Carpeta AUDIOS en tu Drive (ajusta si usas 'My Drive' en lugar de 'MyDrive')\n",
        "BASE_PATH = Path('/content/drive/MyDrive/AUDIOS')\n",
        "if not BASE_PATH.exists():\n",
        "    BASE_PATH = Path('/content/drive/My Drive/AUDIOS')\n",
        "assert BASE_PATH.exists(), f\"No encuentro la carpeta: {BASE_PATH}\"\n",
        "\n",
        "# Archivo de salida (en la misma carpeta AUDIOS)\n",
        "OUTPUT_FILE = BASE_PATH / f\"IndicesAcusticos_0-24_{datetime.now().strftime('%Y%m%d')}.xlsx\"\n",
        "\n",
        "# Espectrograma\n",
        "WINDOW_SIZE = 512\n",
        "NFFT        = 512\n",
        "OVERLAP     = 0\n",
        "\n",
        "# Bandas/índices\n",
        "DEFAULT_FMIN     = 0\n",
        "DEFAULT_FMAX     = 24000\n",
        "BIOPHONY_BAND    = (2000, 12000)\n",
        "ANTHROPHONY_BAND = (0, 2000)\n",
        "\n",
        "# Clustering temporal opcional (promedio de J ventanas contiguas ANTES de ACI temporal)\n",
        "J_CLUSTER = 5  # usar 1 para no agrupar;  p.ej. 5\n",
        "\n",
        "# Paralelismo\n",
        "WORKERS = max(1, os.cpu_count() - 1)\n",
        "USE_PROCESSES = False  # En notebooks, los hilos son más estables que procesos\n",
        "AUDIO_EXTS = {'.wav'}  # respeta tu patrón original centrado en WAV\n"
      ],
      "metadata": {
        "id": "QJ6DW2bQSM9p"
      },
      "execution_count": 11,
      "outputs": []
    },
    {
      "cell_type": "markdown",
      "source": [
        "# Calcular índices"
      ],
      "metadata": {
        "id": "kr1uak4HScaJ"
      }
    },
    {
      "cell_type": "code",
      "source": [
        "import soundfile as sf\n",
        "from maad import features\n",
        "\n",
        "EPS = 1e-10\n",
        "\n",
        "def load_audio_sf(file_path: Path):\n",
        "    \"\"\"\n",
        "    Carga audio con soundfile -> (waveform, samplerate)\n",
        "    waveform: ndarray [N] (solo primer canal si es estéreo).\n",
        "    \"\"\"\n",
        "    data, sr = sf.read(str(file_path), dtype='float32')\n",
        "    if data.ndim > 1:\n",
        "        data = data[:, 0]  # tomar primer canal\n",
        "    return data, sr\n",
        "\n",
        "def ACItf_from_Sxx(Sxx, f, fmin, fmax, J=1):\n",
        "    mask = (f >= fmin) & (f <= fmax)\n",
        "    S = Sxx[mask, :]\n",
        "    if S.size == 0 or S.shape[1] < 2: return np.nan\n",
        "    if J > 1:\n",
        "        T = S.shape[1]\n",
        "        n = (T // J) * J\n",
        "        if n > 0:\n",
        "            S = S[:, :n].reshape(S.shape[0], n//J, J).mean(axis=2)\n",
        "    num = np.abs(np.diff(S, axis=1)).sum(axis=1)\n",
        "    den = (S.sum(axis=1) + EPS)\n",
        "    return float(np.nansum(num / den))\n",
        "\n",
        "def ACIft_from_Sxx(Sxx, f, fmin, fmax):\n",
        "    mask = (f >= fmin) & (f <= fmax)\n",
        "    S = Sxx[mask, :]\n",
        "    if S.size == 0 or S.shape[0] < 2: return np.nan\n",
        "    num = np.abs(np.diff(S, axis=0)).sum(axis=0)\n",
        "    den = (S.sum(axis=0) + EPS)\n",
        "    return float(np.nansum(num / den))\n",
        "\n",
        "def number_of_peaks(Sxx, f, fmin, fmax, min_freq_dist=200):\n",
        "    mask = (f >= fmin) & (f <= fmax)\n",
        "    S = Sxx[mask, :]\n",
        "    if S.size == 0: return np.nan\n",
        "    try:\n",
        "        return float(features.number_of_peaks(S, f[mask], flim=(fmin,fmax), min_freq_dist=min_freq_dist))\n",
        "    except Exception:\n",
        "        return np.nan\n",
        "\n",
        "def calculate_H(x, Fs, s, f, fmin, fmax):\n",
        "    # Ht\n",
        "    hilbert_env = np.abs(signal.hilbert(x))\n",
        "    env_sum = hilbert_env.sum()\n",
        "    if env_sum <= 0: Ht = 0.0\n",
        "    else:\n",
        "        env_prob = hilbert_env / env_sum\n",
        "        Ht = -np.sum(env_prob * np.log2(env_prob+EPS)) / np.log2(len(env_prob))\n",
        "    # Hf\n",
        "    mask = (f >= fmin) & (f <= fmax)\n",
        "    s_band = s[mask, :].sum(axis=1)\n",
        "    den = np.sum(s_band)\n",
        "    if den <= 0: Hf = 0.0\n",
        "    else:\n",
        "        s_band = s_band / (den+EPS)\n",
        "        Hf = -np.sum(s_band*np.log2(s_band+EPS)) / np.log2(len(s_band))\n",
        "    return float(Ht), float(Hf), float(Ht*Hf)\n",
        "\n",
        "def get_indices(file_path, fmin, fmax):\n",
        "    try:\n",
        "        x, fs = load_audio_sf(file_path)\n",
        "        f, t, s = signal.spectrogram(x, fs, nperseg=WINDOW_SIZE, noverlap=OVERLAP, nfft=NFFT, mode='magnitude')\n",
        "        ACItf_val = ACItf_from_Sxx(s, f, fmin, fmax, J=J_CLUSTER)\n",
        "        ACIft_val = ACIft_from_Sxx(s, f, fmin, fmax)\n",
        "        BI_val    = float(features.bioacoustics_index(s, f, flim=BIOPHONY_BAND))\n",
        "        NP_val    = number_of_peaks(s, f, fmin, fmax)\n",
        "        Ht_val,Hf_val,H_val = calculate_H(x, fs, s, f, fmin, fmax)\n",
        "        NDSI_val  = float(features.soundscape_index(s, f, flim_bioPh=BIOPHONY_BAND,\n",
        "                                                   flim_antroPh=ANTHROPHONY_BAND)[0])\n",
        "        return [file_path.name, file_path.parent.name, ACItf_val, ACIft_val, BI_val, NP_val, Ht_val, Hf_val, H_val, NDSI_val]\n",
        "    except Exception as e:\n",
        "        print(f\"❌ Error procesando {file_path}: {e}\")\n",
        "        return [file_path.name, file_path.parent.name] + [np.nan]*8\n"
      ],
      "metadata": {
        "id": "9rAsP_EuSdqL"
      },
      "execution_count": 17,
      "outputs": []
    },
    {
      "cell_type": "markdown",
      "source": [
        "# CORRER EXPORTAR RESULTADOS"
      ],
      "metadata": {
        "id": "VHSLoOh3SnDY"
      }
    },
    {
      "cell_type": "code",
      "source": [
        "files = [p for p in BASE_PATH.rglob('*') if p.is_file() and p.suffix.lower()=='.wav']\n",
        "print(f\"Número de WAV: {len(files)}\")\n",
        "if not files: raise SystemExit(\"No hay archivos WAV en AUDIOS\")\n",
        "\n",
        "with concurrent.futures.ThreadPoolExecutor(max_workers=WORKERS) as ex:\n",
        "    results = list(tqdm(ex.map(get_indices, files, [DEFAULT_FMIN]*len(files), [DEFAULT_FMAX]*len(files)),\n",
        "                        total=len(files), desc=\"Procesando archivos\"))\n",
        "\n",
        "df = pd.DataFrame(results, columns=[\"Name\",\"Folder\",\"ACItf\",\"ACIft\",\"BI\",\"NP\",\"Ht\",\"Hf\",\"H\",\"NDSI\"])\n",
        "df.to_excel(OUTPUT_FILE, index=False)\n",
        "print(\"Resultados guardados en:\", OUTPUT_FILE)\n"
      ],
      "metadata": {
        "id": "N2u8NDw3SpRU"
      },
      "execution_count": null,
      "outputs": []
    }
  ]
}